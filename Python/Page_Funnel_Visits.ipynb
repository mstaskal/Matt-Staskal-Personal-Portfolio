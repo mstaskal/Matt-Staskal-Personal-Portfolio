{
 "cells": [
  {
   "cell_type": "code",
   "execution_count": 67,
   "metadata": {},
   "outputs": [],
   "source": [
    "import pandas as pd"
   ]
  },
  {
   "cell_type": "markdown",
   "metadata": {},
   "source": [
    "Import all the files"
   ]
  },
  {
   "cell_type": "code",
   "execution_count": 68,
   "metadata": {},
   "outputs": [],
   "source": [
    "visits = pd.read_csv('visits.csv',\n",
    "                     parse_dates=[1])\n",
    "cart = pd.read_csv('cart.csv',\n",
    "                   parse_dates=[1])\n",
    "                   \n",
    "checkout = pd.read_csv('checkout.csv',\n",
    "                       parse_dates=[1])\n",
    "purchase = pd.read_csv('purchase.csv',\n",
    "                       parse_dates=[1])"
   ]
  },
  {
   "cell_type": "markdown",
   "metadata": {},
   "source": [
    "Step 1: Inspect the DataFrames using `print` and `head`"
   ]
  },
  {
   "cell_type": "code",
   "execution_count": 69,
   "metadata": {},
   "outputs": [
    {
     "name": "stdout",
     "output_type": "stream",
     "text": [
      "                                user_id          visit_time\n",
      "0  943647ef-3682-4750-a2e1-918ba6f16188 2017-04-07 15:14:00\n",
      "1  0c3a3dd0-fb64-4eac-bf84-ba069ce409f2 2017-01-26 14:24:00\n",
      "2  6e0b2d60-4027-4d9a-babd-0e7d40859fb1 2017-08-20 08:23:00\n",
      "3  6879527e-c5a6-4d14-b2da-50b85212b0ab 2017-11-04 18:15:00\n",
      "4  a84327ff-5daa-4ba1-b789-d5b4caf81e96 2017-02-27 11:25:00\n",
      "                                user_id           cart_time\n",
      "0  2be90e7c-9cca-44e0-bcc5-124b945ff168 2017-11-07 20:45:00\n",
      "1  4397f73f-1da3-4ab3-91af-762792e25973 2017-05-27 01:35:00\n",
      "2  a9db3d4b-0a0a-4398-a55a-ebb2c7adf663 2017-03-04 10:38:00\n",
      "3  b594862a-36c5-47d5-b818-6e9512b939b3 2017-09-27 08:22:00\n",
      "4  a68a16e2-94f0-4ce8-8ce3-784af0bbb974 2017-07-26 15:48:00\n",
      "                                user_id       checkout_time\n",
      "0  d33bdc47-4afa-45bc-b4e4-dbe948e34c0d 2017-06-25 09:29:00\n",
      "1  4ac186f0-9954-4fea-8a27-c081e428e34e 2017-04-07 20:11:00\n",
      "2  3c9c78a7-124a-4b77-8d2e-e1926e011e7d 2017-07-13 11:38:00\n",
      "3  89fe330a-8966-4756-8f7c-3bdbcd47279a 2017-04-20 16:15:00\n",
      "4  3ccdaf69-2d30-40de-b083-51372881aedd 2017-01-08 20:52:00\n",
      "                                user_id       purchase_time\n",
      "0  4b44ace4-2721-47a0-b24b-15fbfa2abf85 2017-05-11 04:25:00\n",
      "1  02e684ae-a448-408f-a9ff-dcb4a5c99aac 2017-09-05 08:45:00\n",
      "2  4b4bc391-749e-4b90-ab8f-4f6e3c84d6dc 2017-11-20 20:49:00\n",
      "3  a5dbb25f-3c36-4103-9030-9f7c6241cd8d 2017-01-22 15:18:00\n",
      "4  46a3186d-7f5a-4ab9-87af-84d05bfd4867 2017-06-11 11:32:00\n"
     ]
    }
   ],
   "source": [
    "print(visits.head(5))\n",
    "print(cart.head(5))\n",
    "print(checkout.head(5))\n",
    "print(purchase.head(5))"
   ]
  },
  {
   "cell_type": "markdown",
   "metadata": {},
   "source": [
    "Step 2: Left merging visits and cart"
   ]
  },
  {
   "cell_type": "code",
   "execution_count": 70,
   "metadata": {},
   "outputs": [],
   "source": [
    "visits_cart = pd.merge(visits,cart,how='left')"
   ]
  },
  {
   "cell_type": "markdown",
   "metadata": {},
   "source": [
    "Step 3: How long is `visits_cart`?"
   ]
  },
  {
   "cell_type": "code",
   "execution_count": 71,
   "metadata": {
    "scrolled": true
   },
   "outputs": [
    {
     "name": "stdout",
     "output_type": "stream",
     "text": [
      "<class 'pandas.core.frame.DataFrame'>\n",
      "Int64Index: 2000 entries, 0 to 1999\n",
      "Data columns (total 3 columns):\n",
      " #   Column      Non-Null Count  Dtype         \n",
      "---  ------      --------------  -----         \n",
      " 0   user_id     2000 non-null   object        \n",
      " 1   visit_time  2000 non-null   datetime64[ns]\n",
      " 2   cart_time   348 non-null    datetime64[ns]\n",
      "dtypes: datetime64[ns](2), object(1)\n",
      "memory usage: 62.5+ KB\n"
     ]
    },
    {
     "data": {
      "text/html": [
       "<div>\n",
       "<style scoped>\n",
       "    .dataframe tbody tr th:only-of-type {\n",
       "        vertical-align: middle;\n",
       "    }\n",
       "\n",
       "    .dataframe tbody tr th {\n",
       "        vertical-align: top;\n",
       "    }\n",
       "\n",
       "    .dataframe thead th {\n",
       "        text-align: right;\n",
       "    }\n",
       "</style>\n",
       "<table border=\"1\" class=\"dataframe\">\n",
       "  <thead>\n",
       "    <tr style=\"text-align: right;\">\n",
       "      <th></th>\n",
       "      <th>visit_time</th>\n",
       "      <th>cart_time</th>\n",
       "    </tr>\n",
       "  </thead>\n",
       "  <tbody>\n",
       "    <tr>\n",
       "      <th>count</th>\n",
       "      <td>2000</td>\n",
       "      <td>348</td>\n",
       "    </tr>\n",
       "    <tr>\n",
       "      <th>mean</th>\n",
       "      <td>2017-06-17 07:51:59.490000128</td>\n",
       "      <td>2017-06-15 03:22:43.448275712</td>\n",
       "    </tr>\n",
       "    <tr>\n",
       "      <th>min</th>\n",
       "      <td>2017-01-01 03:47:00</td>\n",
       "      <td>2017-01-01 03:58:00</td>\n",
       "    </tr>\n",
       "    <tr>\n",
       "      <th>25%</th>\n",
       "      <td>2017-03-21 01:40:30</td>\n",
       "      <td>2017-03-18 05:15:30</td>\n",
       "    </tr>\n",
       "    <tr>\n",
       "      <th>50%</th>\n",
       "      <td>2017-06-19 13:39:30</td>\n",
       "      <td>2017-06-11 09:35:00</td>\n",
       "    </tr>\n",
       "    <tr>\n",
       "      <th>75%</th>\n",
       "      <td>2017-09-12 12:38:30</td>\n",
       "      <td>2017-09-06 06:56:00</td>\n",
       "    </tr>\n",
       "    <tr>\n",
       "      <th>max</th>\n",
       "      <td>2017-11-27 09:40:00</td>\n",
       "      <td>2017-11-27 08:54:00</td>\n",
       "    </tr>\n",
       "  </tbody>\n",
       "</table>\n",
       "</div>"
      ],
      "text/plain": [
       "                          visit_time                      cart_time\n",
       "count                           2000                            348\n",
       "mean   2017-06-17 07:51:59.490000128  2017-06-15 03:22:43.448275712\n",
       "min              2017-01-01 03:47:00            2017-01-01 03:58:00\n",
       "25%              2017-03-21 01:40:30            2017-03-18 05:15:30\n",
       "50%              2017-06-19 13:39:30            2017-06-11 09:35:00\n",
       "75%              2017-09-12 12:38:30            2017-09-06 06:56:00\n",
       "max              2017-11-27 09:40:00            2017-11-27 08:54:00"
      ]
     },
     "execution_count": 71,
     "metadata": {},
     "output_type": "execute_result"
    }
   ],
   "source": [
    "visits_cart.info()\n",
    "visits_cart.describe(datetime_is_numeric=True)"
   ]
  },
  {
   "cell_type": "markdown",
   "metadata": {},
   "source": [
    "Step 4: How many timestamps are null for `cart_time`?"
   ]
  },
  {
   "cell_type": "code",
   "execution_count": 72,
   "metadata": {},
   "outputs": [
    {
     "name": "stdout",
     "output_type": "stream",
     "text": [
      "2000\n",
      "1652\n"
     ]
    }
   ],
   "source": [
    "total_visits = visits_cart.visit_time.count()\n",
    "null_cart = visits_cart.cart_time.isna().sum()\n",
    "print(total_visits)\n",
    "print(null_cart)"
   ]
  },
  {
   "cell_type": "markdown",
   "metadata": {},
   "source": [
    "Step 5: What percentage only visited?"
   ]
  },
  {
   "cell_type": "code",
   "execution_count": 73,
   "metadata": {},
   "outputs": [
    {
     "name": "stdout",
     "output_type": "stream",
     "text": [
      "82.6%\n"
     ]
    }
   ],
   "source": [
    "only_visited = null_cart/total_visits * 100\n",
    "print(f'{only_visited}%')"
   ]
  },
  {
   "cell_type": "markdown",
   "metadata": {},
   "source": [
    "Step 6: What percentage placed a t-shirt in their cart but did not checkout?"
   ]
  },
  {
   "cell_type": "code",
   "execution_count": 74,
   "metadata": {
    "scrolled": true
   },
   "outputs": [
    {
     "name": "stdout",
     "output_type": "stream",
     "text": [
      "<class 'pandas.core.frame.DataFrame'>\n",
      "Int64Index: 2000 entries, 0 to 1999\n",
      "Data columns (total 4 columns):\n",
      " #   Column         Non-Null Count  Dtype         \n",
      "---  ------         --------------  -----         \n",
      " 0   user_id        2000 non-null   object        \n",
      " 1   visit_time     2000 non-null   datetime64[ns]\n",
      " 2   cart_time      348 non-null    datetime64[ns]\n",
      " 3   checkout_time  226 non-null    datetime64[ns]\n",
      "dtypes: datetime64[ns](3), object(1)\n",
      "memory usage: 78.1+ KB\n"
     ]
    },
    {
     "data": {
      "text/html": [
       "<div>\n",
       "<style scoped>\n",
       "    .dataframe tbody tr th:only-of-type {\n",
       "        vertical-align: middle;\n",
       "    }\n",
       "\n",
       "    .dataframe tbody tr th {\n",
       "        vertical-align: top;\n",
       "    }\n",
       "\n",
       "    .dataframe thead th {\n",
       "        text-align: right;\n",
       "    }\n",
       "</style>\n",
       "<table border=\"1\" class=\"dataframe\">\n",
       "  <thead>\n",
       "    <tr style=\"text-align: right;\">\n",
       "      <th></th>\n",
       "      <th>visit_time</th>\n",
       "      <th>cart_time</th>\n",
       "      <th>checkout_time</th>\n",
       "    </tr>\n",
       "  </thead>\n",
       "  <tbody>\n",
       "    <tr>\n",
       "      <th>count</th>\n",
       "      <td>2000</td>\n",
       "      <td>348</td>\n",
       "      <td>226</td>\n",
       "    </tr>\n",
       "    <tr>\n",
       "      <th>mean</th>\n",
       "      <td>2017-06-17 07:51:59.490000128</td>\n",
       "      <td>2017-06-15 03:22:43.448275712</td>\n",
       "      <td>2017-06-14 12:31:25.221239040</td>\n",
       "    </tr>\n",
       "    <tr>\n",
       "      <th>min</th>\n",
       "      <td>2017-01-01 03:47:00</td>\n",
       "      <td>2017-01-01 03:58:00</td>\n",
       "      <td>2017-01-04 05:32:00</td>\n",
       "    </tr>\n",
       "    <tr>\n",
       "      <th>25%</th>\n",
       "      <td>2017-03-21 01:40:30</td>\n",
       "      <td>2017-03-18 05:15:30</td>\n",
       "      <td>2017-03-20 05:38:30</td>\n",
       "    </tr>\n",
       "    <tr>\n",
       "      <th>50%</th>\n",
       "      <td>2017-06-19 13:39:30</td>\n",
       "      <td>2017-06-11 09:35:00</td>\n",
       "      <td>2017-06-09 20:32:00</td>\n",
       "    </tr>\n",
       "    <tr>\n",
       "      <th>75%</th>\n",
       "      <td>2017-09-12 12:38:30</td>\n",
       "      <td>2017-09-06 06:56:00</td>\n",
       "      <td>2017-09-05 04:33:15</td>\n",
       "    </tr>\n",
       "    <tr>\n",
       "      <th>max</th>\n",
       "      <td>2017-11-27 09:40:00</td>\n",
       "      <td>2017-11-27 08:54:00</td>\n",
       "      <td>2017-11-27 09:18:00</td>\n",
       "    </tr>\n",
       "  </tbody>\n",
       "</table>\n",
       "</div>"
      ],
      "text/plain": [
       "                          visit_time                      cart_time  \\\n",
       "count                           2000                            348   \n",
       "mean   2017-06-17 07:51:59.490000128  2017-06-15 03:22:43.448275712   \n",
       "min              2017-01-01 03:47:00            2017-01-01 03:58:00   \n",
       "25%              2017-03-21 01:40:30            2017-03-18 05:15:30   \n",
       "50%              2017-06-19 13:39:30            2017-06-11 09:35:00   \n",
       "75%              2017-09-12 12:38:30            2017-09-06 06:56:00   \n",
       "max              2017-11-27 09:40:00            2017-11-27 08:54:00   \n",
       "\n",
       "                       checkout_time  \n",
       "count                            226  \n",
       "mean   2017-06-14 12:31:25.221239040  \n",
       "min              2017-01-04 05:32:00  \n",
       "25%              2017-03-20 05:38:30  \n",
       "50%              2017-06-09 20:32:00  \n",
       "75%              2017-09-05 04:33:15  \n",
       "max              2017-11-27 09:18:00  "
      ]
     },
     "metadata": {},
     "output_type": "display_data"
    },
    {
     "name": "stdout",
     "output_type": "stream",
     "text": [
      "35.06%\n"
     ]
    }
   ],
   "source": [
    "from IPython.display import display\n",
    "\n",
    "visits_cart_checkout = pd.merge(visits_cart,checkout,how='left')\n",
    "visits_cart_checkout.info()\n",
    "display(visits_cart_checkout.describe(datetime_is_numeric=True))\n",
    "\n",
    "in_cart = visits_cart_checkout.cart_time.count()\n",
    "checked = visits_cart_checkout.checkout_time.count()\n",
    "cart_but_no_check = ((in_cart - checked)/in_cart) * 100\n",
    "print(f'{round(cart_but_no_check,2)}%')"
   ]
  },
  {
   "cell_type": "markdown",
   "metadata": {},
   "source": [
    "Step 7: Merge it all together"
   ]
  },
  {
   "cell_type": "code",
   "execution_count": 104,
   "metadata": {
    "scrolled": true
   },
   "outputs": [
    {
     "name": "stdout",
     "output_type": "stream",
     "text": [
      "<class 'pandas.core.frame.DataFrame'>\n",
      "Int64Index: 144 entries, 0 to 251\n",
      "Data columns (total 2 columns):\n",
      " #   Column         Non-Null Count  Dtype         \n",
      "---  ------         --------------  -----         \n",
      " 0   user_id        144 non-null    object        \n",
      " 1   purchase_time  144 non-null    datetime64[ns]\n",
      "dtypes: datetime64[ns](1), object(1)\n",
      "memory usage: 3.4+ KB\n",
      "None\n",
      "Empty DataFrame\n",
      "Columns: [user_id, purchase_time]\n",
      "Index: []\n",
      "0\n",
      "<class 'pandas.core.frame.DataFrame'>\n",
      "Int64Index: 2000 entries, 0 to 1999\n",
      "Data columns (total 5 columns):\n",
      " #   Column         Non-Null Count  Dtype         \n",
      "---  ------         --------------  -----         \n",
      " 0   user_id        2000 non-null   object        \n",
      " 1   visit_time     2000 non-null   datetime64[ns]\n",
      " 2   cart_time      348 non-null    datetime64[ns]\n",
      " 3   checkout_time  226 non-null    datetime64[ns]\n",
      " 4   purchase_time  144 non-null    datetime64[ns]\n",
      "dtypes: datetime64[ns](4), object(1)\n",
      "memory usage: 93.8+ KB\n"
     ]
    },
    {
     "data": {
      "text/html": [
       "<div>\n",
       "<style scoped>\n",
       "    .dataframe tbody tr th:only-of-type {\n",
       "        vertical-align: middle;\n",
       "    }\n",
       "\n",
       "    .dataframe tbody tr th {\n",
       "        vertical-align: top;\n",
       "    }\n",
       "\n",
       "    .dataframe thead th {\n",
       "        text-align: right;\n",
       "    }\n",
       "</style>\n",
       "<table border=\"1\" class=\"dataframe\">\n",
       "  <thead>\n",
       "    <tr style=\"text-align: right;\">\n",
       "      <th></th>\n",
       "      <th>visit_time</th>\n",
       "      <th>cart_time</th>\n",
       "      <th>checkout_time</th>\n",
       "      <th>purchase_time</th>\n",
       "    </tr>\n",
       "  </thead>\n",
       "  <tbody>\n",
       "    <tr>\n",
       "      <th>count</th>\n",
       "      <td>2000</td>\n",
       "      <td>348</td>\n",
       "      <td>226</td>\n",
       "      <td>144</td>\n",
       "    </tr>\n",
       "    <tr>\n",
       "      <th>mean</th>\n",
       "      <td>2017-06-17 07:51:59.490000128</td>\n",
       "      <td>2017-06-15 03:22:43.448275712</td>\n",
       "      <td>2017-06-14 12:31:25.221239040</td>\n",
       "      <td>2017-06-13 15:11:40.416666624</td>\n",
       "    </tr>\n",
       "    <tr>\n",
       "      <th>min</th>\n",
       "      <td>2017-01-01 03:47:00</td>\n",
       "      <td>2017-01-01 03:58:00</td>\n",
       "      <td>2017-01-04 05:32:00</td>\n",
       "      <td>2017-01-05 02:59:00</td>\n",
       "    </tr>\n",
       "    <tr>\n",
       "      <th>25%</th>\n",
       "      <td>2017-03-21 01:40:30</td>\n",
       "      <td>2017-03-18 05:15:30</td>\n",
       "      <td>2017-03-20 05:38:30</td>\n",
       "      <td>2017-03-25 06:57:45</td>\n",
       "    </tr>\n",
       "    <tr>\n",
       "      <th>50%</th>\n",
       "      <td>2017-06-19 13:39:30</td>\n",
       "      <td>2017-06-11 09:35:00</td>\n",
       "      <td>2017-06-09 20:32:00</td>\n",
       "      <td>2017-06-02 23:53:30</td>\n",
       "    </tr>\n",
       "    <tr>\n",
       "      <th>75%</th>\n",
       "      <td>2017-09-12 12:38:30</td>\n",
       "      <td>2017-09-06 06:56:00</td>\n",
       "      <td>2017-09-05 04:33:15</td>\n",
       "      <td>2017-09-04 06:44:15</td>\n",
       "    </tr>\n",
       "    <tr>\n",
       "      <th>max</th>\n",
       "      <td>2017-11-27 09:40:00</td>\n",
       "      <td>2017-11-27 08:54:00</td>\n",
       "      <td>2017-11-27 09:18:00</td>\n",
       "      <td>2017-11-24 05:25:00</td>\n",
       "    </tr>\n",
       "  </tbody>\n",
       "</table>\n",
       "</div>"
      ],
      "text/plain": [
       "                          visit_time                      cart_time  \\\n",
       "count                           2000                            348   \n",
       "mean   2017-06-17 07:51:59.490000128  2017-06-15 03:22:43.448275712   \n",
       "min              2017-01-01 03:47:00            2017-01-01 03:58:00   \n",
       "25%              2017-03-21 01:40:30            2017-03-18 05:15:30   \n",
       "50%              2017-06-19 13:39:30            2017-06-11 09:35:00   \n",
       "75%              2017-09-12 12:38:30            2017-09-06 06:56:00   \n",
       "max              2017-11-27 09:40:00            2017-11-27 08:54:00   \n",
       "\n",
       "                       checkout_time                  purchase_time  \n",
       "count                            226                            144  \n",
       "mean   2017-06-14 12:31:25.221239040  2017-06-13 15:11:40.416666624  \n",
       "min              2017-01-04 05:32:00            2017-01-05 02:59:00  \n",
       "25%              2017-03-20 05:38:30            2017-03-25 06:57:45  \n",
       "50%              2017-06-09 20:32:00            2017-06-02 23:53:30  \n",
       "75%              2017-09-05 04:33:15            2017-09-04 06:44:15  \n",
       "max              2017-11-27 09:18:00            2017-11-24 05:25:00  "
      ]
     },
     "metadata": {},
     "output_type": "display_data"
    }
   ],
   "source": [
    "print(purchase.info())\n",
    "duplicates = purchase[purchase.duplicated(subset=['user_id'], keep=False)]\n",
    "print(duplicates)\n",
    "print(purchase['user_id'].duplicated().sum())\n",
    "purchase = purchase.drop_duplicates(subset=['user_id'])\n",
    "visits_cart_checkout_purchase = pd.merge(visits_cart_checkout,purchase,how='left')\n",
    "visits_cart_checkout_purchase.info()\n",
    "display(visits_cart_checkout_purchase.describe(datetime_is_numeric=True))\n",
    "\n"
   ]
  },
  {
   "cell_type": "markdown",
   "metadata": {},
   "source": [
    "Step 8: % of users who got to checkout but did not purchase"
   ]
  },
  {
   "cell_type": "code",
   "execution_count": 105,
   "metadata": {},
   "outputs": [
    {
     "name": "stdout",
     "output_type": "stream",
     "text": [
      "36.28%\n"
     ]
    }
   ],
   "source": [
    "checked = visits_cart_checkout_purchase.checkout_time.count()\n",
    "bought = visits_cart_checkout_purchase.purchase_time.count()\n",
    "checked_but_no_bought = ((checked - bought)/checked) * 100\n",
    "print(f'{round(checked_but_no_bought,2)}%')\n"
   ]
  },
  {
   "cell_type": "markdown",
   "metadata": {},
   "source": [
    "Step 9: check each part of the funnel, let's print all 3 of them again"
   ]
  },
  {
   "cell_type": "code",
   "execution_count": 106,
   "metadata": {},
   "outputs": [
    {
     "name": "stdout",
     "output_type": "stream",
     "text": [
      "percentage of users who visited the website but didn't start a cart: 82.6%\n",
      "percentage of users who started a cart but didn't check out: 35.06%\n",
      "percentage of users who started a cart and checked out, but didn't complete purchase: 36.28%\n"
     ]
    }
   ],
   "source": [
    "print(f'percentage of users who visited the website but didn\\'t start a cart: {only_visited}%')\n",
    "print(f'percentage of users who started a cart but didn\\'t check out: {round(cart_but_no_check,2)}%')\n",
    "print(f'percentage of users who started a cart and checked out, but didn\\'t complete purchase: {round(checked_but_no_bought,2)}%')"
   ]
  },
  {
   "cell_type": "markdown",
   "metadata": {},
   "source": [
    "*The weakest part of the funnel is clearly getting a person who visited the site to add a tshirt to their cart. Once they've added a t-shirt to their cart it is fairly likely they end up purchasing it. A suggestion could be to make the add-to-cart button more prominent on the front page.*\n",
    "\n",
    "\n",
    "Step 10: adding new column"
   ]
  },
  {
   "cell_type": "code",
   "execution_count": 107,
   "metadata": {},
   "outputs": [],
   "source": [
    "all_data = visits_cart_checkout_purchase\n",
    "all_data['time_spent'] = all_data.purchase_time - all_data.visit_time"
   ]
  },
  {
   "cell_type": "markdown",
   "metadata": {},
   "source": [
    "Step 11: examine the results"
   ]
  },
  {
   "cell_type": "code",
   "execution_count": 108,
   "metadata": {},
   "outputs": [
    {
     "name": "stdout",
     "output_type": "stream",
     "text": [
      "1       0.733333\n",
      "14      0.633333\n",
      "48      0.683333\n",
      "64      1.000000\n",
      "69      0.566667\n",
      "          ...   \n",
      "1971    0.683333\n",
      "1972    0.333333\n",
      "1977    0.500000\n",
      "1987    0.766667\n",
      "1991    0.533333\n",
      "Name: time_spent, Length: 144, dtype: float64\n"
     ]
    }
   ],
   "source": [
    "time_spent_purchase = all_data[all_data.time_spent.notna()]\n",
    "print(time_spent_purchase.time_spent.dt.total_seconds() / 3600)"
   ]
  },
  {
   "cell_type": "markdown",
   "metadata": {},
   "source": [
    "Step 12: average time to purchase"
   ]
  },
  {
   "cell_type": "code",
   "execution_count": 109,
   "metadata": {},
   "outputs": [
    {
     "name": "stdout",
     "output_type": "stream",
     "text": [
      "0 days 00:42:33.333333333\n"
     ]
    }
   ],
   "source": [
    "average_time = time_spent_purchase.time_spent.mean()\n",
    "print(average_time)"
   ]
  },
  {
   "cell_type": "code",
   "execution_count": 110,
   "metadata": {
    "scrolled": true
   },
   "outputs": [
    {
     "name": "stdout",
     "output_type": "stream",
     "text": [
      "        purchase_time          visit_time\n",
      "0                 NaT 2017-04-07 15:14:00\n",
      "1 2017-01-26 15:08:00 2017-01-26 14:24:00\n",
      "2                 NaT 2017-08-20 08:23:00\n",
      "3                 NaT 2017-11-04 18:15:00\n",
      "4                 NaT 2017-02-27 11:25:00\n",
      "5                 NaT 2017-06-03 20:05:00\n",
      "6                 NaT 2017-03-18 23:09:00\n",
      "7                 NaT 2017-01-10 12:09:00\n",
      "8                 NaT 2017-06-27 19:21:00\n",
      "9                 NaT 2017-09-24 06:43:00\n"
     ]
    }
   ],
   "source": [
    "print(all_data[['purchase_time', 'visit_time']].head(10))"
   ]
  }
 ],
 "metadata": {
  "kernelspec": {
   "display_name": "Python 3 (ipykernel)",
   "language": "python",
   "name": "python3"
  },
  "language_info": {
   "codemirror_mode": {
    "name": "ipython",
    "version": 3
   },
   "file_extension": ".py",
   "mimetype": "text/x-python",
   "name": "python",
   "nbconvert_exporter": "python",
   "pygments_lexer": "ipython3",
   "version": "3.9.12"
  }
 },
 "nbformat": 4,
 "nbformat_minor": 4
}
