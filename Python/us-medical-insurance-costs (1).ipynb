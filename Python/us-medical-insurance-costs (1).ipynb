{
 "cells": [
  {
   "cell_type": "markdown",
   "metadata": {},
   "source": [
    "# U.S. Medical Insurance Costs"
   ]
  },
  {
   "cell_type": "markdown",
   "metadata": {},
   "source": [
    "#### Import Medical Insurance CSV data for use in Jupyter Notebook"
   ]
  },
  {
   "cell_type": "code",
   "execution_count": 30,
   "metadata": {},
   "outputs": [
    {
     "name": "stdout",
     "output_type": "stream",
     "text": [
      "Fields: ['age', 'sex', 'bmi', 'children', 'smoker', 'region', 'charges']\n"
     ]
    }
   ],
   "source": [
    "import csv\n",
    "\n",
    "#open source data\n",
    "\n",
    "with open('insurance.csv') as dataset:\n",
    "    headings = dataset.readline()\n",
    "\n",
    "#set up list of fields based on data headings\n",
    "    \n",
    "fields = headings.split(',')\n",
    "#remove line break from last heading field\n",
    "fields[-1] = fields[-1].strip()\n",
    "\n",
    "print(f'Fields: {fields}')   \n"
   ]
  },
  {
   "cell_type": "markdown",
   "metadata": {},
   "source": [
    "#### Create a list of dictionaries, each dictionary being a patient, for use in analysis"
   ]
  },
  {
   "cell_type": "code",
   "execution_count": 31,
   "metadata": {
    "scrolled": false
   },
   "outputs": [
    {
     "name": "stdout",
     "output_type": "stream",
     "text": [
      "[{'age': 19, 'sex': 'female', 'bmi': 27.9, 'children': 0, 'smoker': 'yes', 'region': 'southwest', 'charges': 16884.924}, {'age': 18, 'sex': 'male', 'bmi': 33.77, 'children': 1, 'smoker': 'no', 'region': 'southeast', 'charges': 1725.5523}, {'age': 28, 'sex': 'male', 'bmi': 33.0, 'children': 3, 'smoker': 'no', 'region': 'southeast', 'charges': 4449.462}]\n"
     ]
    }
   ],
   "source": [
    "with open('insurance.csv',newline='') as dataset:\n",
    "    patient_reader = csv.DictReader(dataset)\n",
    "    patient_files = [\n",
    "        {\n",
    "            'age': int(row['age']),\n",
    "            'sex': row['sex'],\n",
    "            'bmi': float(row['bmi']),\n",
    "            'children': int(row['children']),\n",
    "            'smoker': row['smoker'],\n",
    "            'region': row['region'],\n",
    "            'charges': float(row['charges'])\n",
    "        }\n",
    "        for row in patient_reader\n",
    "    ]\n",
    "print(patient_files[:3])"
   ]
  },
  {
   "cell_type": "markdown",
   "metadata": {},
   "source": [
    "#### Create a list of lists, each list being a patient, for use in analysis"
   ]
  },
  {
   "cell_type": "code",
   "execution_count": 32,
   "metadata": {},
   "outputs": [
    {
     "name": "stdout",
     "output_type": "stream",
     "text": [
      "[['age', 'sex', 'bmi', 'children', 'smoker', 'region', 'charges'], ['19', 'female', '27.9', '0', 'yes', 'southwest', '16884.924'], ['18', 'male', '33.77', '1', 'no', 'southeast', '1725.5523']]\n"
     ]
    }
   ],
   "source": [
    "#create list of lists, each list being a patient\n",
    "\n",
    "patient_list_1 = []\n",
    "\n",
    "with open('insurance.csv',newline='') as dataset:\n",
    "    patient_reader = csv.reader(dataset)\n",
    "    for row in patient_reader:\n",
    "        patient_list_1.append(row)\n",
    "        \n",
    "print(patient_list[:3])"
   ]
  },
  {
   "cell_type": "markdown",
   "metadata": {},
   "source": [
    "#### How many patients in the dataset?"
   ]
  },
  {
   "cell_type": "code",
   "execution_count": 33,
   "metadata": {},
   "outputs": [
    {
     "name": "stdout",
     "output_type": "stream",
     "text": [
      "Total number of patients in the dataset: 1338\n"
     ]
    }
   ],
   "source": [
    "total_patients = len(patient_list)-1\n",
    "print(f'Total number of patients in the dataset: {total_patients}')"
   ]
  },
  {
   "cell_type": "markdown",
   "metadata": {},
   "source": [
    "#### How many male/female?"
   ]
  },
  {
   "cell_type": "code",
   "execution_count": 34,
   "metadata": {},
   "outputs": [
    {
     "name": "stdout",
     "output_type": "stream",
     "text": [
      "Total male: 676 or 50.5% of total\n",
      "Total female: 662 or 49.5% of total\n"
     ]
    }
   ],
   "source": [
    "males = 0\n",
    "females = 0\n",
    "\n",
    "for i in patient_files:\n",
    "    if i['sex'] == 'female':\n",
    "        females += 1\n",
    "    elif i['sex'] == 'male':\n",
    "        males += 1\n",
    "\n",
    "print(f'Total male: {males} or {males/total_patients*100:.1f}% of total')\n",
    "print(f'Total female: {females} or {females/total_patients*100:.1f}% of total')"
   ]
  },
  {
   "cell_type": "markdown",
   "metadata": {},
   "source": [
    "#### How many for each region?"
   ]
  },
  {
   "cell_type": "code",
   "execution_count": 35,
   "metadata": {},
   "outputs": [
    {
     "name": "stdout",
     "output_type": "stream",
     "text": [
      "Total northeast: 324 or 24.2% of total\n",
      "Total northwest: 325 or 24.3% of total\n",
      "Total southeast: 364 or 27.2% of total\n",
      "Total southwest: 325 or 24.3% of total\n"
     ]
    }
   ],
   "source": [
    "northeast = 0\n",
    "northwest = 0\n",
    "southeast = 0\n",
    "southwest = 0\n",
    "\n",
    "for i in patient_files:\n",
    "    if i['region'] == 'northeast':\n",
    "        northeast += 1\n",
    "    elif i['region'] == 'northwest':\n",
    "        northwest += 1\n",
    "    elif i['region'] == 'southeast':\n",
    "        southeast += 1\n",
    "    elif i['region'] == 'southwest':\n",
    "        southwest += 1\n",
    "\n",
    "print(f'Total northeast: {northeast} or {northeast/total_patients*100:.1f}% of total')\n",
    "print(f'Total northwest: {northwest} or {northwest/total_patients*100:.1f}% of total')\n",
    "print(f'Total southeast: {southeast} or {southeast/total_patients*100:.1f}% of total')\n",
    "print(f'Total southwest: {southwest} or {southwest/total_patients*100:.1f}% of total')"
   ]
  },
  {
   "cell_type": "markdown",
   "metadata": {},
   "source": [
    "#### How are the patients grouped by age?\n",
    "The patient distribution is skewed toward younger patients with 33% of the total vs an average of 20% for the other 3 age groups"
   ]
  },
  {
   "cell_type": "code",
   "execution_count": 36,
   "metadata": {},
   "outputs": [
    {
     "name": "stdout",
     "output_type": "stream",
     "text": [
      "Total patients age 18-30: 444 or 33.2% of total\n",
      "Total patients age 31-40: 257 or 19.2% of total\n",
      "Total patients age 41-50: 281 or 21.0% of total\n",
      "Total patients age 51 or older: 356 or 26.6% of total\n"
     ]
    }
   ],
   "source": [
    "age1830 = 0 #18-30\n",
    "age3140 = 0 #31-40\n",
    "age4150 = 0 #41-50\n",
    "age51plus = 0 #51+\n",
    "\n",
    "a1830 = []\n",
    "a3140 = []\n",
    "a4150 = []\n",
    "a51plus = []\n",
    "\n",
    "for i in patient_files:\n",
    "    if 18 <= i['age'] <= 30:\n",
    "        age1830 += 1\n",
    "        a1830.append(i)\n",
    "    elif 31 <= i['age'] <= 40:\n",
    "        age3140 += 1\n",
    "        a3140.append(i)\n",
    "    elif 41 <= i['age'] <= 50:\n",
    "        age4150 += 1\n",
    "        a4150.append(i)\n",
    "    else:\n",
    "        age51plus += 1\n",
    "        a51plus.append(i)\n",
    "\n",
    "print(f'Total patients age 18-30: {age1830} or {age1830/total_patients*100:.1f}% of total')\n",
    "print(f'Total patients age 31-40: {age3140} or {age3140/total_patients*100:.1f}% of total')\n",
    "print(f'Total patients age 41-50: {age4150} or {age4150/total_patients*100:.1f}% of total')\n",
    "print(f'Total patients age 51 or older: {age51plus} or {age51plus/total_patients*100:.1f}% of total')"
   ]
  },
  {
   "cell_type": "markdown",
   "metadata": {},
   "source": [
    "#### How many smokers?"
   ]
  },
  {
   "cell_type": "code",
   "execution_count": 41,
   "metadata": {},
   "outputs": [
    {
     "name": "stdout",
     "output_type": "stream",
     "text": [
      "Total smokers: 274 or 20.5% of total\n",
      "Total nonsmokers: 1064 or 79.5% of total\n"
     ]
    }
   ],
   "source": [
    "smokers = 0\n",
    "nonsmokers = 0\n",
    "\n",
    "for i in patient_files:\n",
    "    if i['smoker'] == 'yes':\n",
    "        smokers += 1\n",
    "    elif i['smoker'] == 'no':\n",
    "        nonsmokers += 1\n",
    "\n",
    "print(f'Total smokers: {smokers} or {smokers/total_patients*100:.1f}% of total')\n",
    "print(f'Total nonsmokers: {nonsmokers} or {nonsmokers/total_patients*100:.1f}% of total')"
   ]
  },
  {
   "cell_type": "markdown",
   "metadata": {},
   "source": [
    "#### How are patients grouped by BMI?"
   ]
  },
  {
   "cell_type": "code",
   "execution_count": 38,
   "metadata": {},
   "outputs": [
    {
     "name": "stdout",
     "output_type": "stream",
     "text": [
      "Total patients bmi 0-25: 247 or 18.5% of total\n",
      "Total patients bmi 26-35: 705 or 52.7% of total\n",
      "Total patients bmi 36-45: 239 or 17.9% of total\n",
      "Total patients bmi 46 or greater: 147 or 26.6% of total\n"
     ]
    }
   ],
   "source": [
    "bmi025 = 0 #0-25\n",
    "bmi2635 = 0 #26-35\n",
    "bmi3645= 0 #36-45\n",
    "bmi46plus = 0 #45+\n",
    "\n",
    "b025 = []\n",
    "b2635 = []\n",
    "b3645 = []\n",
    "b46plus = []\n",
    "\n",
    "for i in patient_files:\n",
    "    if 0 <= i['bmi'] <= 25:\n",
    "        bmi025 += 1\n",
    "        b025.append(i)\n",
    "    elif 26 <= i['bmi'] <= 35:\n",
    "        bmi2635 += 1\n",
    "        b2635.append(i)\n",
    "    elif 36 <= i['bmi'] <= 45:\n",
    "        bmi3645 += 1\n",
    "        b3645.append(i)\n",
    "    else:\n",
    "        bmi46plus += 1\n",
    "        b46plus.append(i)\n",
    "\n",
    "print(f'Total patients bmi 0-25: {bmi025} or {bmi025/total_patients*100:.1f}% of total')\n",
    "print(f'Total patients bmi 26-35: {bmi2635} or {bmi2635/total_patients*100:.1f}% of total')\n",
    "print(f'Total patients bmi 36-45: {bmi3645} or {bmi3645/total_patients*100:.1f}% of total')\n",
    "print(f'Total patients bmi 46 or greater: {bmi46plus} or {age51plus/total_patients*100:.1f}% of total')"
   ]
  },
  {
   "cell_type": "markdown",
   "metadata": {},
   "source": [
    "#### Smoker BMI vs Non-smoker BMI?"
   ]
  },
  {
   "cell_type": "code",
   "execution_count": 46,
   "metadata": {},
   "outputs": [
    {
     "name": "stdout",
     "output_type": "stream",
     "text": [
      "Average BMI for non-smoker: 30.65\n",
      "Average BMI for smoker: 30.71\n",
      "Average BMI for non-smoker: 30.65\n",
      "Average BMI for smoker: 30.71\n"
     ]
    }
   ],
   "source": [
    "s_bmi = []\n",
    "ns_bmi = []\n",
    "\n",
    "for i in patient_files:\n",
    "    if i['smoker'] == 'yes':\n",
    "        s_bmi.append(i['bmi'])\n",
    "    elif i['smoker'] == 'no':\n",
    "        ns_bmi.append(i['bmi'])\n",
    "\n",
    "smoker_bmi = 0\n",
    "for i in s_bmi:\n",
    "    smoker_bmi += i\n",
    "\n",
    "smoker_bmi = round(smoker_bmi/len(s_bmi),2)\n",
    "\n",
    "nonsmoker_bmi = 0\n",
    "for i in ns_bmi:\n",
    "    nonsmoker_bmi += i\n",
    "\n",
    "nonsmoker_bmi = round(nonsmoker_bmi/len(ns_bmi),2)\n",
    "\n",
    "print(f'Average BMI for non-smoker: {nonsmoker_bmi}')\n",
    "print(f'Average BMI for smoker: {smoker_bmi}')\n",
    "\n",
    "#OR#\n",
    "\n",
    "# Separate BMIs for smokers and non-smokers\n",
    "s_bmi = [i['bmi'] for i in patient_files if i['smoker'] == 'yes']\n",
    "ns_bmi = [i['bmi'] for i in patient_files if i['smoker'] == 'no']\n",
    "\n",
    "# Calculate average BMIs\n",
    "smoker_bmi = round(sum(s_bmi) / len(s_bmi), 2) if s_bmi else 0\n",
    "nonsmoker_bmi = round(sum(ns_bmi) / len(ns_bmi), 2) if ns_bmi else 0\n",
    "\n",
    "# Print results\n",
    "print(f'Average BMI for non-smoker: {nonsmoker_bmi}')\n",
    "print(f'Average BMI for smoker: {smoker_bmi}')"
   ]
  },
  {
   "cell_type": "markdown",
   "metadata": {},
   "source": [
    "#### Cost by region?"
   ]
  },
  {
   "cell_type": "code",
   "execution_count": 49,
   "metadata": {
    "scrolled": true
   },
   "outputs": [
    {
     "name": "stdout",
     "output_type": "stream",
     "text": [
      "Average cost in NE region: $13,406.38\n",
      "Average cost in NW region: $12,417.58\n",
      "Average cost in SE region: $14,735.41\n",
      "Average cost in SW region: $12,346.94\n"
     ]
    }
   ],
   "source": [
    "ne_cost = [i['charges'] for i in patient_files if i['region'] == 'northeast']\n",
    "nw_cost = [i['charges'] for i in patient_files if i['region'] == 'northwest']\n",
    "se_cost = [i['charges'] for i in patient_files if i['region'] == 'southeast']\n",
    "sw_cost = [i['charges'] for i in patient_files if i['region'] == 'southwest']\n",
    "\n",
    "northeast_cost = round(sum(ne_cost) / len(ne_cost), 2) if ne_cost else 0\n",
    "northwest_cost = round(sum(nw_cost) / len(nw_cost), 2) if nw_cost else 0\n",
    "southeast_cost = round(sum(se_cost) / len(se_cost), 2) if se_cost else 0\n",
    "southwest_cost = round(sum(sw_cost) / len(sw_cost), 2) if sw_cost else 0\n",
    "\n",
    "print(f'Average cost in NE region: ${northeast_cost:,}')\n",
    "print(f'Average cost in NW region: ${northwest_cost:,}')\n",
    "print(f'Average cost in SE region: ${southeast_cost:,}')\n",
    "print(f'Average cost in SW region: ${southwest_cost:,}')"
   ]
  },
  {
   "cell_type": "markdown",
   "metadata": {},
   "source": [
    "#### Cost by BMI Group?"
   ]
  },
  {
   "cell_type": "code",
   "execution_count": 72,
   "metadata": {},
   "outputs": [
    {
     "name": "stdout",
     "output_type": "stream",
     "text": [
      "Average cost BMI 0-25: $10,284.29\n",
      "Average cost BMI 26-35: $12,924.46\n",
      "Average cost BMI 36-45: $16,836.72\n",
      "Average cost BMI 46 or higher: $18,139.17\n"
     ]
    }
   ],
   "source": [
    "bmi025_cost = [i['charges'] for i in patient_files if 0 <= i['bmi'] <= 25]\n",
    "bmi2635_cost = [i['charges'] for i in patient_files if 26 <= i['bmi'] <= 35]\n",
    "bmi3645_cost = [i['charges'] for i in patient_files if 36 <= i['bmi'] <= 45]\n",
    "bmi46plus_cost = [i['charges'] for i in patient_files if 46 <= i['bmi']]\n",
    "\n",
    "b025_cost = round(sum(bmi025_cost) / len(bmi025_cost), 2) if bmi025_cost else 0\n",
    "b2635_cost = round(sum(bmi2635_cost) / len(bmi2635_cost), 2) if bmi2635_cost else 0\n",
    "b3645_cost = round(sum(bmi3645_cost) / len(bmi3645_cost), 2) if bmi3645_cost else 0\n",
    "b46plus_cost = round(sum(bmi46plus_cost) / len(bmi46plus_cost), 2) if bmi46plus_cost else 0\n",
    "\n",
    "print(f'Average cost BMI 0-25: ${b025_cost:,}')\n",
    "print(f'Average cost BMI 26-35: ${b2635_cost:,}')\n",
    "print(f'Average cost BMI 36-45: ${b3645_cost:,}')\n",
    "print(f'Average cost BMI 46 or higher: ${b46plus_cost:,}')"
   ]
  },
  {
   "cell_type": "markdown",
   "metadata": {},
   "source": [
    "#### Using SQL to set up a table and view the data"
   ]
  },
  {
   "cell_type": "markdown",
   "metadata": {},
   "source": [
    "CREATE TABLE insurance_costs\n",
    "    \n",
    "    (patient_id NUMBER GENERATED AS IDENTITY PRIMARY KEY,\n",
    "    \n",
    "    age NUMBER,\n",
    "    \n",
    "    sex VARCHAR2(7),\n",
    "    \n",
    "    children NUMBER,\n",
    "    \n",
    "    smoker VARCHAR2(5),\n",
    "    \n",
    "    region VARCHAR2(12),\n",
    "    \n",
    "    charges NUMBER(16,6));"
   ]
  },
  {
   "cell_type": "markdown",
   "metadata": {},
   "source": [
    "#### Insert data from csv to table"
   ]
  },
  {
   "cell_type": "code",
   "execution_count": 71,
   "metadata": {},
   "outputs": [],
   "source": [
    "with open('fill_insurance_table.txt','w') as fill_table:\n",
    "    for patient in patient_files:\n",
    "        fill_table.write(f\"INSERT INTO insurance_costs VALUES (DEFAULT, {patient['age']}, '{patient['sex']}', {patient['children']}, '{patient['smoker']}', '{patient['region']}', {patient['charges']});\")\n",
    "        \n",
    "        "
   ]
  }
 ],
 "metadata": {
  "kernelspec": {
   "display_name": "Python 3 (ipykernel)",
   "language": "python",
   "name": "python3"
  },
  "language_info": {
   "codemirror_mode": {
    "name": "ipython",
    "version": 3
   },
   "file_extension": ".py",
   "mimetype": "text/x-python",
   "name": "python",
   "nbconvert_exporter": "python",
   "pygments_lexer": "ipython3",
   "version": "3.9.12"
  }
 },
 "nbformat": 4,
 "nbformat_minor": 4
}
